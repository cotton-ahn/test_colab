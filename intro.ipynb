{
  "nbformat": 4,
  "nbformat_minor": 0,
  "metadata": {
    "colab": {
      "name": "intro.ipynb",
      "provenance": [],
      "authorship_tag": "ABX9TyPQ6K54//AhHFzRxJDE/c7H",
      "include_colab_link": true
    },
    "kernelspec": {
      "name": "python3",
      "display_name": "Python 3"
    },
    "language_info": {
      "name": "python"
    }
  },
  "cells": [
    {
      "cell_type": "markdown",
      "metadata": {
        "id": "view-in-github",
        "colab_type": "text"
      },
      "source": [
        "<a href=\"https://colab.research.google.com/github/cotton-ahn/test_colab/blob/main/intro.ipynb\" target=\"_parent\"><img src=\"https://colab.research.google.com/assets/colab-badge.svg\" alt=\"Open In Colab\"/></a>"
      ]
    },
    {
      "cell_type": "markdown",
      "metadata": {
        "id": "81_Cqr4no8tl"
      },
      "source": [
        "## Write some text\n",
        "- This is the introduction to deep learning course.\n",
        "- This is new colaboratory file."
      ]
    },
    {
      "cell_type": "markdown",
      "metadata": {
        "id": "N6_gwMZRpbHz"
      },
      "source": [
        "### Import Packages\n",
        "\n",
        "\n"
      ]
    },
    {
      "cell_type": "code",
      "metadata": {
        "id": "9ELu8sNioA75"
      },
      "source": [
        "import numpy as np\n",
        "import os\n",
        "import sys\n",
        "import torch"
      ],
      "execution_count": 2,
      "outputs": []
    },
    {
      "cell_type": "markdown",
      "metadata": {
        "id": "AB8rmAx3pgS3"
      },
      "source": [
        "## Trials for printing"
      ]
    },
    {
      "cell_type": "code",
      "metadata": {
        "colab": {
          "base_uri": "https://localhost:8080/"
        },
        "id": "UG_CtyOUowME",
        "outputId": "8566d46f-c468-48b9-9097-4cb906cb7a8b"
      },
      "source": [
        "print(\"new code cell above\")"
      ],
      "execution_count": 3,
      "outputs": [
        {
          "output_type": "stream",
          "name": "stdout",
          "text": [
            "new code cell above\n"
          ]
        }
      ]
    },
    {
      "cell_type": "markdown",
      "metadata": {
        "id": "mGWfWG_Kppee"
      },
      "source": [
        "# New Section"
      ]
    },
    {
      "cell_type": "code",
      "metadata": {
        "colab": {
          "base_uri": "https://localhost:8080/"
        },
        "id": "z6MGL8QmoqK7",
        "outputId": "5014a113-217a-4326-8286-c677a366e6ab"
      },
      "source": [
        "print(\"new code cell\")"
      ],
      "execution_count": 4,
      "outputs": [
        {
          "output_type": "stream",
          "name": "stdout",
          "text": [
            "new code cell\n"
          ]
        }
      ]
    }
  ]
}